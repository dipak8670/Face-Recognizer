{
 "cells": [
  {
   "cell_type": "code",
   "execution_count": 2,
   "metadata": {},
   "outputs": [
    {
     "ename": "ModuleNotFoundError",
     "evalue": "No module named 'cv2'",
     "output_type": "error",
     "traceback": [
      "\u001b[1;31m---------------------------------------------------------------------------\u001b[0m",
      "\u001b[1;31mModuleNotFoundError\u001b[0m                       Traceback (most recent call last)",
      "\u001b[1;32m<ipython-input-2-47d219f52484>\u001b[0m in \u001b[0;36m<module>\u001b[1;34m\u001b[0m\n\u001b[0;32m      1\u001b[0m \u001b[1;32mimport\u001b[0m \u001b[0mnumpy\u001b[0m \u001b[1;32mas\u001b[0m \u001b[0mnp\u001b[0m\u001b[1;33m\u001b[0m\u001b[1;33m\u001b[0m\u001b[0m\n\u001b[0;32m      2\u001b[0m \u001b[1;32mimport\u001b[0m \u001b[0mos\u001b[0m\u001b[1;33m\u001b[0m\u001b[1;33m\u001b[0m\u001b[0m\n\u001b[1;32m----> 3\u001b[1;33m \u001b[1;32mimport\u001b[0m \u001b[0mcv2\u001b[0m\u001b[1;33m\u001b[0m\u001b[1;33m\u001b[0m\u001b[0m\n\u001b[0m\u001b[0;32m      4\u001b[0m \u001b[1;32mimport\u001b[0m \u001b[0mtime\u001b[0m\u001b[1;33m\u001b[0m\u001b[1;33m\u001b[0m\u001b[0m\n",
      "\u001b[1;31mModuleNotFoundError\u001b[0m: No module named 'cv2'"
     ]
    }
   ],
   "source": [
    "import numpy as np\n",
    "import os\n",
    "import cv2\n",
    "import time"
   ]
  },
  {
   "cell_type": "code",
   "execution_count": null,
   "metadata": {},
   "outputs": [],
   "source": [
    "data=\"(name of the person)\"\n",
    "face_classifier=cv2.CascadeClassifier('haarcascade_frontalface_default.xml')\n",
    "def face_extractor(img):\n",
    "    gray=cv2.cvtColor(img,cv2.COLOR_BGR2GRAY)\n",
    "    faces=face_classifier.detectMultiScale(gray,1.3,5)\n",
    "    \n",
    "    if faces is ():\n",
    "        return None\n",
    "    \n",
    "    for (x,y,w,h) in faces:\n",
    "        cropped_face=img[y:y+h,x:x+w]\n",
    "        \n",
    "    return cropped_face\n",
    "cap=cv2.VideoCapture(0)\n",
    "count=0\n",
    "\n",
    "while True:\n",
    "    _,frame=cap.read()\n",
    "    \n",
    "    if face_extractor(frame) is not None:\n",
    "        count+=1\n",
    "        face=cv2.resize(face_extractor(frame),(200,200))\n",
    "        face=cv2.cvtColor(face,cv2.COLOR_BGR2GRAY)\n",
    "        \n",
    "        file_name_path='./faces/'+data+'/'+str(count)+'.jpg'\n",
    "        cv2.imwrite(file_name_path,face)\n",
    "        cv2.putText(face,str(count),(50,50),cv2.FONT_HERSHEY_COMPLEX, 1, (0,255,0), 2)\n",
    "        cv2.imshow('Face Cropped', face)\n",
    "        \n",
    "        \n",
    "    else:\n",
    "        print(\"Face not found\")\n",
    "        pass\n",
    "    if cv2.waitKey(1)==13 or count==100:\n",
    "        break\n",
    "        \n",
    "print(face)\n",
    "cap.release()\n",
    "cv2.destroyAllWindows()\n",
    "print(\"Collecting Samples Complete\")"
   ]
  },
  {
   "cell_type": "code",
   "execution_count": 2,
   "metadata": {},
   "outputs": [
    {
     "name": "stdout",
     "output_type": "stream",
     "text": [
      "Training....\n",
      "Dipak\n",
      "Munita\n",
      "Rahul\n",
      "Ravi #rd year\n",
      "shekhar\n",
      "sweta\n"
     ]
    }
   ],
   "source": [
    "datasets='faces'\n",
    "haar_file='haarcascade_frontalface_default.xml'\n",
    "print(\"Training....\")\n",
    "\n",
    "(images, lables, names, id)=([],[],{},0)\n",
    "for (subdirs, dirs, files) in os.walk(datasets):\n",
    "    for subdir in dirs:\n",
    "        names[id]= subdir\n",
    "        print(names[id])\n",
    "        \n",
    "        subjectpath = os.path.join(datasets, subdir)\n",
    "        \n",
    "        for filename in os.listdir(subjectpath):\n",
    "            path= subjectpath+'/'+filename\n",
    "            lable=id\n",
    "            images.append(cv2.imread(path, 0))\n",
    "            lables.append(int(lable))\n",
    "        id+=1\n",
    "        \n",
    "(width, height)=(130, 130)\n",
    "\n",
    "(images, lables)= [np.array(lis) for lis in [images, lables]]\n",
    "model=cv2.face.LBPHFaceRecognizer_create()\n",
    "model.train(images, lables)\n",
    "face_cascade=cv2.CascadeClassifier(haar_file)\n",
    "\n",
    "(images, lables), names=(images, lables), names\n",
    "#print((images, lables))\n",
    "#print(names)\n",
    "model.train(images, lables)\n",
    "\n",
    "face_cascade=cv2.CascadeClassifier(haar_file)\n",
    "camera_port=0\n",
    "ramp_frames=100\n",
    "camera=cv2.VideoCapture(camera_port)\n",
    "\n",
    "while True:\n",
    "    retval, im=camera.read()\n",
    "    gray=cv2.cvtColor(im, cv2.COLOR_BGR2GRAY)\n",
    "    faces=face_cascade.detectMultiScale(gray, 1.3, 5)\n",
    "    for (x, y, w, h) in faces:\n",
    "        cv2.rectangle(im, (x, y), (x+w, y+h), (255,0,0), 2)\n",
    "        face=gray[y:y+h, x:x+w]\n",
    "        face_resize=cv2.resize(face, (width, height))\n",
    "        \n",
    "        prediction=model.predict(face_resize)\n",
    "        cv2.rectangle(im, (x, y), (x+w, y+h), (0,255,0),3)\n",
    "        \n",
    "        if prediction[1]<90:\n",
    "            cv2.putText(im,'%s - %.0f'%(names[prediction[0]], prediction[1]),(x-10, y-10), cv2.FONT_HERSHEY_PLAIN,1,(0,255,0))\n",
    "            \n",
    "        else:\n",
    "            cv2.putText(im,'NOT RECOGNIZE',(x-10,y-10),cv2.FONT_HERSHEY_PLAIN,1,(0,255,0))\n",
    "            \n",
    "        x=open(\"attend.txt\",\"a\")\n",
    "        time1=time.ctime()\n",
    "        x.write(str(time1))\n",
    "        x.write(\"\\t\")\n",
    "        x.write(str(names[prediction[0]]))\n",
    "        x.write(\"\\n\")\n",
    "        x.close()\n",
    "    cv2.imshow('img',im)\n",
    "    if cv2.waitKey(1) & 0xFF==ord('q'):\n",
    "        break\n",
    "camera.release()\n",
    "cv2.destroyAllWindows()\n",
    "\n",
    "\n"
   ]
  },
  {
   "cell_type": "code",
   "execution_count": null,
   "metadata": {},
   "outputs": [],
   "source": []
  },
  {
   "cell_type": "code",
   "execution_count": null,
   "metadata": {},
   "outputs": [],
   "source": []
  }
 ],
 "metadata": {
  "kernelspec": {
   "display_name": "Python 3",
   "language": "python",
   "name": "python3"
  },
  "language_info": {
   "codemirror_mode": {
    "name": "ipython",
    "version": 3
   },
   "file_extension": ".py",
   "mimetype": "text/x-python",
   "name": "python",
   "nbconvert_exporter": "python",
   "pygments_lexer": "ipython3",
   "version": "3.8.5"
  }
 },
 "nbformat": 4,
 "nbformat_minor": 2
}
